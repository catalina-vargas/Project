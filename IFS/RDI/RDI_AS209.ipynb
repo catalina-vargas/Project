{
 "cells": [
  {
   "cell_type": "code",
   "execution_count": 1,
   "metadata": {},
   "outputs": [],
   "source": [
    "import astropy.constants as c\n",
    "import glob\n",
    "from hciplot import plot_frames, plot_cubes\n",
    "from matplotlib import pyplot as plt\n",
    "import numpy as np\n",
    "import pandas as pd\n",
    "\n",
    "#from special.model_resampling import resample_model\n",
    "#from special.utils_spec import find_nearest\n",
    "\n",
    "from vip_hci.config import VLT_SPHERE_IFS\n",
    "from vip_hci.fits import open_fits, write_fits, info_fits\n",
    "from vip_hci.fm import (cube_inject_companions, firstguess, mcmc_negfc_sampling, normalize_psf,\n",
    "                        show_walk_plot, show_corner_plot, confidence)\n",
    "from vip_hci.metrics import snr, significance\n",
    "from vip_hci.psfsub import median_sub, pca, pca_annular, pca_annulus, pca_grid\n",
    "from vip_hci.preproc import find_scal_vector, frame_rescaling\n",
    "from vip_hci.var import frame_center, dist, mask_circle"
   ]
  },
  {
   "cell_type": "markdown",
   "metadata": {},
   "source": [
    "## Loading and visualizing the data"
   ]
  },
  {
   "cell_type": "code",
   "execution_count": null,
   "metadata": {},
   "outputs": [],
   "source": [
    "cubename = '/home/cvargas/sphere/IFS/SPHERE_DC_DATA_AS209_IFS/HIP-82323_OBS_H_2021-04-06_ifs_convert_dc2_PUBLIC_305341/ifs_convert_dc2-IFS_SCIENCE_REDUCED_SPECTRAL_MASTER_CUBE-center_im.fits'\n",
    "psfname = '/home/cvargas/sphere/IFS/SPHERE_DC_DATA_AS209_IFS/HIP-82323_OBS_H_2021-04-06_ifs_convert_dc2_PUBLIC_305341/ifs_convert_dc2-IFS_SCIENCE_PSF_MASTER_CUBE-median_unsat.fits'\n",
    "lbdaname = '/home/cvargas/sphere/IFS/SPHERE_DC_DATA_AS209_IFS/HIP-82323_OBS_H_2021-04-06_ifs_convert_dc2_PUBLIC_305341/ifs_convert_dc2-IFS_SCIENCE_LAMBDA_INFO-lam.fits'\n",
    "anglename = '/home/cvargas/sphere/IFS/SPHERE_DC_DATA_AS209_IFS/HIP-82323_OBS_H_2021-04-06_ifs_convert_dc2_PUBLIC_305341/ifs_convert_dc2-IFS_SCIENCE_PARA_ROTATION_CUBE-rotnth.fits'\n",
    "\n",
    "cube = open_fits(cubename)\n",
    "psf = open_fits(psfname)\n",
    "lbda = open_fits(lbdaname)\n",
    "derot_angles = -1*open_fits(anglename) # note: SPHERE DRH returns parallactic angles, while VIP routines take derotation angles as input\n",
    "\n",
    "nch, nz, ny, nx = cube.shape"
   ]
  },
  {
   "cell_type": "code",
   "execution_count": null,
   "metadata": {},
   "outputs": [],
   "source": []
  }
 ],
 "metadata": {
  "kernelspec": {
   "display_name": "python39",
   "language": "python",
   "name": "python3"
  },
  "language_info": {
   "codemirror_mode": {
    "name": "ipython",
    "version": 3
   },
   "file_extension": ".py",
   "mimetype": "text/x-python",
   "name": "python",
   "nbconvert_exporter": "python",
   "pygments_lexer": "ipython3",
   "version": "3.9.6"
  },
  "orig_nbformat": 4
 },
 "nbformat": 4,
 "nbformat_minor": 2
}
